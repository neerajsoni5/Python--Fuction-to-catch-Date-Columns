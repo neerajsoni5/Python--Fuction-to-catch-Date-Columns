{
 "cells": [
  {
   "cell_type": "code",
   "execution_count": 10,
   "metadata": {},
   "outputs": [],
   "source": [
    "import pandas as pd\n",
    "\n",
    "#creating the test data\n",
    "#df = pd.DataFrame({'0': ['a', 'b', 'c'], '1': ['2015-12-27','2015-12-28', '2015-12-29'], '2': [11,12,13]})\n",
    "#df.to_csv('test.csv', index=False)\n",
    "\n",
    "##Parse date unction look for the formate tobe in date for 'datecolumns'\n",
    "#loading the test data\n",
    "df = pd.read_csv('test.csv', parse_dates=True)\n",
    "#print df.dtypes "
   ]
  },
  {
   "cell_type": "code",
   "execution_count": 11,
   "metadata": {},
   "outputs": [
    {
     "data": {
      "text/html": [
       "<div>\n",
       "<style scoped>\n",
       "    .dataframe tbody tr th:only-of-type {\n",
       "        vertical-align: middle;\n",
       "    }\n",
       "\n",
       "    .dataframe tbody tr th {\n",
       "        vertical-align: top;\n",
       "    }\n",
       "\n",
       "    .dataframe thead th {\n",
       "        text-align: right;\n",
       "    }\n",
       "</style>\n",
       "<table border=\"1\" class=\"dataframe\">\n",
       "  <thead>\n",
       "    <tr style=\"text-align: right;\">\n",
       "      <th></th>\n",
       "      <th>0</th>\n",
       "      <th>1</th>\n",
       "      <th>2</th>\n",
       "      <th>v1</th>\n",
       "      <th>v2</th>\n",
       "      <th>v3</th>\n",
       "      <th>v4</th>\n",
       "    </tr>\n",
       "  </thead>\n",
       "  <tbody>\n",
       "    <tr>\n",
       "      <td>0</td>\n",
       "      <td>a</td>\n",
       "      <td>12/27/2015</td>\n",
       "      <td>11</td>\n",
       "      <td>12/27/2015</td>\n",
       "      <td>11</td>\n",
       "      <td>12/27/2015</td>\n",
       "      <td>11</td>\n",
       "    </tr>\n",
       "    <tr>\n",
       "      <td>1</td>\n",
       "      <td>b</td>\n",
       "      <td>12/28/2015</td>\n",
       "      <td>12</td>\n",
       "      <td>12/28/2015</td>\n",
       "      <td>12</td>\n",
       "      <td>12/28/2015</td>\n",
       "      <td>12</td>\n",
       "    </tr>\n",
       "    <tr>\n",
       "      <td>2</td>\n",
       "      <td>c</td>\n",
       "      <td>12/29/2015</td>\n",
       "      <td>13</td>\n",
       "      <td>12/29/2015</td>\n",
       "      <td>13</td>\n",
       "      <td>12/29/2015</td>\n",
       "      <td>13</td>\n",
       "    </tr>\n",
       "  </tbody>\n",
       "</table>\n",
       "</div>"
      ],
      "text/plain": [
       "   0           1   2          v1  v2          v3  v4\n",
       "0  a  12/27/2015  11  12/27/2015  11  12/27/2015  11\n",
       "1  b  12/28/2015  12  12/28/2015  12  12/28/2015  12\n",
       "2  c  12/29/2015  13  12/29/2015  13  12/29/2015  13"
      ]
     },
     "execution_count": 11,
     "metadata": {},
     "output_type": "execute_result"
    }
   ],
   "source": [
    "df.head()"
   ]
  },
  {
   "cell_type": "code",
   "execution_count": 12,
   "metadata": {},
   "outputs": [
    {
     "name": "stdout",
     "output_type": "stream",
     "text": [
      "<class 'pandas.core.frame.DataFrame'>\n",
      "RangeIndex: 3 entries, 0 to 2\n",
      "Data columns (total 7 columns):\n",
      "0     3 non-null object\n",
      "1     3 non-null object\n",
      "2     3 non-null int64\n",
      "v1    3 non-null object\n",
      "v2    3 non-null int64\n",
      "v3    3 non-null object\n",
      "v4    3 non-null int64\n",
      "dtypes: int64(3), object(4)\n",
      "memory usage: 296.0+ bytes\n"
     ]
    }
   ],
   "source": [
    "df.info()"
   ]
  },
  {
   "cell_type": "code",
   "execution_count": 16,
   "metadata": {},
   "outputs": [
    {
     "data": {
      "text/plain": [
       "0             object\n",
       "1     datetime64[ns]\n",
       "2              int64\n",
       "v1    datetime64[ns]\n",
       "v2             int64\n",
       "v3    datetime64[ns]\n",
       "v4             int64\n",
       "dtype: object"
      ]
     },
     "execution_count": 16,
     "metadata": {},
     "output_type": "execute_result"
    }
   ],
   "source": [
    "#ValueError : when built-in function receives a wrong argument\n",
    "#try() is used in Error and Exception Handling\n",
    "for col in df.columns:\n",
    "    if df[col].dtype == 'object':\n",
    "        try:\n",
    "            df[col] = pd.to_datetime(df[col])\n",
    "        except ValueError:  \n",
    "            pass\n",
    "            \n",
    "            \n",
    "\n",
    "df.dtypes"
   ]
  },
  {
   "cell_type": "code",
   "execution_count": 14,
   "metadata": {},
   "outputs": [],
   "source": [
    "df_dates=df.select_dtypes(include=['datetime64'])"
   ]
  },
  {
   "cell_type": "code",
   "execution_count": 15,
   "metadata": {},
   "outputs": [
    {
     "data": {
      "text/html": [
       "<div>\n",
       "<style scoped>\n",
       "    .dataframe tbody tr th:only-of-type {\n",
       "        vertical-align: middle;\n",
       "    }\n",
       "\n",
       "    .dataframe tbody tr th {\n",
       "        vertical-align: top;\n",
       "    }\n",
       "\n",
       "    .dataframe thead th {\n",
       "        text-align: right;\n",
       "    }\n",
       "</style>\n",
       "<table border=\"1\" class=\"dataframe\">\n",
       "  <thead>\n",
       "    <tr style=\"text-align: right;\">\n",
       "      <th></th>\n",
       "      <th>1</th>\n",
       "      <th>v1</th>\n",
       "      <th>v3</th>\n",
       "    </tr>\n",
       "  </thead>\n",
       "  <tbody>\n",
       "    <tr>\n",
       "      <td>0</td>\n",
       "      <td>2015-12-27</td>\n",
       "      <td>2015-12-27</td>\n",
       "      <td>2015-12-27</td>\n",
       "    </tr>\n",
       "    <tr>\n",
       "      <td>1</td>\n",
       "      <td>2015-12-28</td>\n",
       "      <td>2015-12-28</td>\n",
       "      <td>2015-12-28</td>\n",
       "    </tr>\n",
       "    <tr>\n",
       "      <td>2</td>\n",
       "      <td>2015-12-29</td>\n",
       "      <td>2015-12-29</td>\n",
       "      <td>2015-12-29</td>\n",
       "    </tr>\n",
       "  </tbody>\n",
       "</table>\n",
       "</div>"
      ],
      "text/plain": [
       "           1         v1         v3\n",
       "0 2015-12-27 2015-12-27 2015-12-27\n",
       "1 2015-12-28 2015-12-28 2015-12-28\n",
       "2 2015-12-29 2015-12-29 2015-12-29"
      ]
     },
     "execution_count": 15,
     "metadata": {},
     "output_type": "execute_result"
    }
   ],
   "source": [
    "df_dates"
   ]
  },
  {
   "cell_type": "code",
   "execution_count": null,
   "metadata": {},
   "outputs": [],
   "source": []
  }
 ],
 "metadata": {
  "kernelspec": {
   "display_name": "Python 3",
   "language": "python",
   "name": "python3"
  }
 },
 "nbformat": 4,
 "nbformat_minor": 2
}
